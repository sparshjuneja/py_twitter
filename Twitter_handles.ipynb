{
 "cells": [
  {
   "cell_type": "code",
   "execution_count": null,
   "metadata": {},
   "outputs": [],
   "source": []
  },
  {
   "cell_type": "markdown",
   "metadata": {},
   "source": [
    "# Tweepy is a twitter api wrapper in python, it has an extensive documentation and hence can be understood easiely. #\n",
    "\n",
    "\n",
    "# consumer_key, consumer_secret, access_token and access_secret can be achieved by making a twitter app."
   ]
  },
  {
   "cell_type": "code",
   "execution_count": null,
   "metadata": {},
   "outputs": [],
   "source": [
    "import tweepy\n",
    "consumer_key = 'Insert Here'\n",
    "consumer_secret = 'Insert Here'\n",
    "access_token = 'Insert Here'\n",
    "access_secret = 'Insert Here'"
   ]
  },
  {
   "cell_type": "code",
   "execution_count": null,
   "metadata": {},
   "outputs": [],
   "source": [
    "#the keys collected above are used for authentication purposes\n",
    "auth = tweepy.OAuthHandler(consumer_key, consumer_secret)\n",
    "auth.set_access_token(access_token, access_secret)"
   ]
  },
  {
   "cell_type": "code",
   "execution_count": null,
   "metadata": {},
   "outputs": [],
   "source": [
    "api = tweepy.API(auth)"
   ]
  },
  {
   "cell_type": "code",
   "execution_count": null,
   "metadata": {},
   "outputs": [],
   "source": [
    "#pandas was used to make it easier to read the excel file.\n",
    "import pandas as pd\n",
    "df = pd.read_excel(\"Twitter_handles.xlsx\")\n",
    "print(df.columns)\n",
    "handles = df['Twitter Handles (ICO)'].values"
   ]
  },
  {
   "cell_type": "code",
   "execution_count": null,
   "metadata": {
    "scrolled": true
   },
   "outputs": [],
   "source": [
    "#gives you the number of requests remaining and the refresh time limit.\n",
    "api.rate_limit_status()"
   ]
  },
  {
   "cell_type": "code",
   "execution_count": null,
   "metadata": {},
   "outputs": [],
   "source": [
    "'''\n",
    "Used to handle the RateLimitError in twitter api,\n",
    "read about this in tweepy doc.\n",
    "'''\n",
    "\n",
    "import time\n",
    "def limit_handled(cursor):\n",
    "    while True:\n",
    "        try:\n",
    "            yield cursor.next()\n",
    "        except tweepy.TweepError:\n",
    "            print(\"Let's wait for some time\")\n",
    "            #15 minutes is the refresh time for fetching follower ids\n",
    "            time.sleep(15 * 60)"
   ]
  },
  {
   "cell_type": "code",
   "execution_count": null,
   "metadata": {},
   "outputs": [],
   "source": [
    "#sqlite3 is a SQLite implementation for python. You can use any other library of your choice.\n",
    "import sqlite3 as sql\n",
    "#this will create a database if not already present\n",
    "conn = sql.connect('twitter_handles.db')\n",
    "c = conn.cursor()"
   ]
  },
  {
   "cell_type": "code",
   "execution_count": null,
   "metadata": {},
   "outputs": [],
   "source": [
    "#make a table inside the database to store the values.\n",
    "c.execute('''CREATE TABLE handles\n",
    "             (ID INTEGER PRIMARY KEY, \n",
    "              Follower_Source TEXT NOT NULL, \n",
    "              Follower_IDs TEXT UNIQUE);''')"
   ]
  },
  {
   "cell_type": "code",
   "execution_count": null,
   "metadata": {},
   "outputs": [],
   "source": [
    "# tweepy cursors are used for better handling of RateLimitError\n",
    "for handle in handles:\n",
    "    print(\"Current Handle: \" + handle)\n",
    "    with open(\"handles_2.txt\", mode='w') as file:\n",
    "        for follower in limit_handled(tweepy.Cursor(api.followers_ids, id=handle).items()):\n",
    "            file.write(str(follower))\n",
    "            file.write(\"\\n\")\n",
    "            \n",
    "    print(\"Followers of \" + handle + \" collected, Lets start inserting..\\n\")\n",
    "    #Insert all the followers collected into a text file        \n",
    "    lst = []\n",
    "    follower_source = handle\n",
    "    with open(\"handles_2.txt\", mode='r') as file:\n",
    "        for f in file:\n",
    "            f = f[:-1]\n",
    "            lst.append((follower_source, f))\n",
    "                    \n",
    "    c.executemany(\"INSERT or IGNORE INTO handles(Follower_Source, Follower_IDs) VALUES (?,?)\", lst)\n",
    "    conn.commit()\n",
    "        \n",
    "                \n",
    "        \n",
    "        "
   ]
  },
  {
   "cell_type": "code",
   "execution_count": null,
   "metadata": {},
   "outputs": [],
   "source": [
    "# necessary for saving the changes to the database.\n",
    "conn.commit()"
   ]
  },
  {
   "cell_type": "code",
   "execution_count": null,
   "metadata": {},
   "outputs": [],
   "source": [
    "#To display the database by copying it in a .csv file.\n",
    "import csv\n",
    "with open(\"user_obj.csv\", mode='w', newline='') as csvfile:\n",
    "    write = csv.writer(csvfile)\n",
    "    for row in c.execute(\"SELECT * FROM handles\"):\n",
    "        write.writerow(row)\n",
    "    \n",
    "    "
   ]
  },
  {
   "cell_type": "code",
   "execution_count": null,
   "metadata": {},
   "outputs": [],
   "source": [
    "conn.commit()"
   ]
  },
  {
   "cell_type": "code",
   "execution_count": null,
   "metadata": {},
   "outputs": [],
   "source": []
  }
 ],
 "metadata": {
  "kernelspec": {
   "display_name": "Python 3",
   "language": "python",
   "name": "python3"
  },
  "language_info": {
   "codemirror_mode": {
    "name": "ipython",
    "version": 3
   },
   "file_extension": ".py",
   "mimetype": "text/x-python",
   "name": "python",
   "nbconvert_exporter": "python",
   "pygments_lexer": "ipython3",
   "version": "3.6.3"
  }
 },
 "nbformat": 4,
 "nbformat_minor": 2
}
