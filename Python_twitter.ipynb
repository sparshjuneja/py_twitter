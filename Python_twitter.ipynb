{
 "cells": [
  {
   "cell_type": "code",
   "execution_count": 1,
   "metadata": {},
   "outputs": [],
   "source": [
    "import twitter"
   ]
  },
  {
   "cell_type": "code",
   "execution_count": 2,
   "metadata": {},
   "outputs": [],
   "source": [
    "consumer_key = 'WlwoXrPuQKQHWtUeLrB1BnYhG'\n",
    "consumer_secret = 'ZgUyr2mxF0W7xDl9fuqojCjFjqJYIuoKj0e8o8HvtFpy5tqDIq'\n",
    "access_token = '3860491152-JgSlqASKgZqzxQp8pZs3g5ewWOJVC9ts4qgeciY'\n",
    "access_secret = 'itK8tyL1JUmSw8doHILhLNHbFmH0D3MJIe8bhf1TT8guN'"
   ]
  },
  {
   "cell_type": "code",
   "execution_count": 3,
   "metadata": {},
   "outputs": [],
   "source": [
    "api = twitter.Api(consumer_key, consumer_secret, access_token, access_secret, sleep_on_rate_limit=True)"
   ]
  },
  {
   "cell_type": "code",
   "execution_count": 6,
   "metadata": {},
   "outputs": [],
   "source": [
    "import json\n",
    "\n",
    "with open(\"User_obj.txt\", mode='w') as file:\n",
    "    usr = api.GetUser(user_id=100000021)\n",
    "    usr_str = str(usr._json)\n",
    "    file.write(usr_str)"
   ]
  },
  {
   "cell_type": "code",
   "execution_count": null,
   "metadata": {},
   "outputs": [],
   "source": [
    "user_list = api.UsersLookup(user_id=[943015703723905024,])\n",
    "user_list[0]._json"
   ]
  },
  {
   "cell_type": "code",
   "execution_count": 2,
   "metadata": {},
   "outputs": [],
   "source": [
    "import sqlite3 as sql\n",
    "conn = sql.connect('twitter_handles.db')\n",
    "c = conn.cursor()"
   ]
  },
  {
   "cell_type": "code",
   "execution_count": 3,
   "metadata": {},
   "outputs": [
    {
     "data": {
      "text/plain": [
       "<sqlite3.Cursor at 0x7f27542ebb90>"
      ]
     },
     "execution_count": 3,
     "metadata": {},
     "output_type": "execute_result"
    }
   ],
   "source": [
    "c.execute(\"ALTER TABLE handles RENAME TO temp_handles\")"
   ]
  },
  {
   "cell_type": "code",
   "execution_count": 30,
   "metadata": {},
   "outputs": [
    {
     "data": {
      "text/plain": [
       "<sqlite3.Cursor at 0x7f27542ebb90>"
      ]
     },
     "execution_count": 30,
     "metadata": {},
     "output_type": "execute_result"
    }
   ],
   "source": [
    "#c.execute(\"CREATE TABLE temp (ID INTEGER PRIMARY KEY, User_object TEXT)\")\n",
    "c.execute('''CREATE TABLE handles_join\n",
    "             (ID INTEGER PRIMARY KEY, \n",
    "              Follower_Source TEXT, \n",
    "              Follower_IDs TEXT UNIQUE,\n",
    "              User_Object TEXT);''')"
   ]
  },
  {
   "cell_type": "code",
   "execution_count": 5,
   "metadata": {},
   "outputs": [
    {
     "data": {
      "text/plain": [
       "<sqlite3.Cursor at 0x7f27542ebb90>"
      ]
     },
     "execution_count": 5,
     "metadata": {},
     "output_type": "execute_result"
    }
   ],
   "source": [
    "c.execute('''INSERT INTO handles\n",
    "             SELECT ID, Follower_Source, Follower_IDs\n",
    "             FROM temp_handles''')"
   ]
  },
  {
   "cell_type": "code",
   "execution_count": 33,
   "metadata": {},
   "outputs": [
    {
     "data": {
      "text/plain": [
       "<sqlite3.Cursor at 0x7f27542ebb90>"
      ]
     },
     "execution_count": 33,
     "metadata": {},
     "output_type": "execute_result"
    }
   ],
   "source": [
    "c.execute(\"DROP TABLE temp_handles\")"
   ]
  },
  {
   "cell_type": "code",
   "execution_count": 34,
   "metadata": {},
   "outputs": [],
   "source": [
    "conn.commit()"
   ]
  },
  {
   "cell_type": "code",
   "execution_count": 28,
   "metadata": {},
   "outputs": [
    {
     "name": "stdout",
     "output_type": "stream",
     "text": [
      "[('_MediBloc', '829892082588282880', '{\"id\": 829892082588282880, \"id_str\": \"829892082588282880\", \"name\": \"\\\\ucd5c\\\\uc6d0\\\\uc11d\", \"screen_name\": \"red8ull87\", \"location\": \"\", \"description\": \"\", \"url\": null, \"entities\": {\"description\": {\"urls\": []}}, \"protected\": false, \"followers_count\": 0, \"friends_count\": 29, \"listed_count\": 0, \"created_at\": \"Fri Feb 10 03:17:45 +0000 2017\", \"favourites_count\": 4, \"utc_offset\": null, \"time_zone\": null, \"geo_enabled\": false, \"verified\": false, \"statuses_count\": 1, \"lang\": \"ko\", \"contributors_enabled\": false, \"is_translator\": false, \"is_translation_enabled\": false, \"profile_background_color\": \"F5F8FA\", \"profile_background_image_url\": null, \"profile_background_image_url_https\": null, \"profile_background_tile\": false, \"profile_image_url\": \"http://abs.twimg.com/sticky/default_profile_images/default_profile_normal.png\", \"profile_image_url_https\": \"https://abs.twimg.com/sticky/default_profile_images/default_profile_normal.png\", \"profile_link_color\": \"1DA1F2\", \"profile_sidebar_border_color\": \"C0DEED\", \"profile_sidebar_fill_color\": \"DDEEF6\", \"profile_text_color\": \"333333\", \"profile_use_background_image\": true, \"has_extended_profile\": false, \"default_profile\": true, \"default_profile_image\": true, \"following\": false, \"follow_request_sent\": false, \"notifications\": false, \"translator_type\": \"none\"}'), ('_MediBloc', '943690737190703105', '{\"id\": 943690737190703105, \"id_str\": \"943690737190703105\", \"name\": \"\\\\uc6b0\\\\uc131\\\\uad6c\", \"screen_name\": \"t0k9sZtpGnsmojz\", \"location\": \"\", \"description\": \"\", \"url\": null, \"entities\": {\"description\": {\"urls\": []}}, \"protected\": false, \"followers_count\": 0, \"friends_count\": 4, \"listed_count\": 0, \"created_at\": \"Thu Dec 21 03:52:59 +0000 2017\", \"favourites_count\": 0, \"utc_offset\": null, \"time_zone\": null, \"geo_enabled\": false, \"verified\": false, \"statuses_count\": 0, \"lang\": \"en\", \"contributors_enabled\": false, \"is_translator\": false, \"is_translation_enabled\": false, \"profile_background_color\": \"F5F8FA\", \"profile_background_image_url\": null, \"profile_background_image_url_https\": null, \"profile_background_tile\": false, \"profile_image_url\": \"http://abs.twimg.com/sticky/default_profile_images/default_profile_normal.png\", \"profile_image_url_https\": \"https://abs.twimg.com/sticky/default_profile_images/default_profile_normal.png\", \"profile_link_color\": \"1DA1F2\", \"profile_sidebar_border_color\": \"C0DEED\", \"profile_sidebar_fill_color\": \"DDEEF6\", \"profile_text_color\": \"333333\", \"profile_use_background_image\": true, \"has_extended_profile\": false, \"default_profile\": true, \"default_profile_image\": true, \"following\": false, \"follow_request_sent\": false, \"notifications\": false, \"translator_type\": \"none\"}'), ('_MediBloc', '943686183745228801', '{\"id\": 943686183745228801, \"id_str\": \"943686183745228801\", \"name\": \"\\\\ubc15\\\\uc0c1\\\\uc900\", \"screen_name\": \"ti8ByYQ9e6iZePO\", \"location\": \"\", \"description\": \"\", \"url\": null, \"entities\": {\"description\": {\"urls\": []}}, \"protected\": false, \"followers_count\": 0, \"friends_count\": 15, \"listed_count\": 0, \"created_at\": \"Thu Dec 21 03:34:53 +0000 2017\", \"favourites_count\": 1, \"utc_offset\": null, \"time_zone\": null, \"geo_enabled\": false, \"verified\": false, \"statuses_count\": 1, \"lang\": \"ko\", \"status\": {\"created_at\": \"Thu Dec 21 14:35:44 +0000 2017\", \"id\": 943852491392794626, \"id_str\": \"943852491392794626\", \"text\": \"@justinsuntron Nice\", \"truncated\": false, \"entities\": {\"hashtags\": [], \"symbols\": [], \"user_mentions\": [{\"screen_name\": \"justinsuntron\", \"name\": \"Justin Sun\", \"id\": 902839045356744704, \"id_str\": \"902839045356744704\", \"indices\": [0, 14]}], \"urls\": []}, \"source\": \"<a href=\\\\\"http://twitter.com/download/android\\\\\" rel=\\\\\"nofollow\\\\\">Twitter for Android</a>\", \"in_reply_to_status_id\": 943851114432102400, \"in_reply_to_status_id_str\": \"943851114432102400\", \"in_reply_to_user_id\": 902839045356744704, \"in_reply_to_user_id_str\": \"902839045356744704\", \"in_reply_to_screen_name\": \"justinsuntron\", \"geo\": null, \"coordinates\": null, \"place\": null, \"contributors\": null, \"is_quote_status\": false, \"retweet_count\": 0, \"favorite_count\": 0, \"favorited\": false, \"retweeted\": false, \"lang\": \"en\"}, \"contributors_enabled\": false, \"is_translator\": false, \"is_translation_enabled\": false, \"profile_background_color\": \"F5F8FA\", \"profile_background_image_url\": null, \"profile_background_image_url_https\": null, \"profile_background_tile\": false, \"profile_image_url\": \"http://abs.twimg.com/sticky/default_profile_images/default_profile_normal.png\", \"profile_image_url_https\": \"https://abs.twimg.com/sticky/default_profile_images/default_profile_normal.png\", \"profile_link_color\": \"1DA1F2\", \"profile_sidebar_border_color\": \"C0DEED\", \"profile_sidebar_fill_color\": \"DDEEF6\", \"profile_text_color\": \"333333\", \"profile_use_background_image\": true, \"has_extended_profile\": false, \"default_profile\": true, \"default_profile_image\": true, \"following\": false, \"follow_request_sent\": false, \"notifications\": false, \"translator_type\": \"none\"}'), ('_MediBloc', '942799098050068480', '{\"id\": 942799098050068480, \"id_str\": \"942799098050068480\", \"name\": \"\\\\uc870\\\\ubbfc\\\\ud638\", \"screen_name\": \"woVeU7uHTo5grn9\", \"location\": \"\", \"description\": \"\", \"url\": null, \"entities\": {\"description\": {\"urls\": []}}, \"protected\": false, \"followers_count\": 1, \"friends_count\": 21, \"listed_count\": 0, \"created_at\": \"Mon Dec 18 16:49:56 +0000 2017\", \"favourites_count\": 1, \"utc_offset\": null, \"time_zone\": null, \"geo_enabled\": false, \"verified\": false, \"statuses_count\": 0, \"lang\": \"ko\", \"contributors_enabled\": false, \"is_translator\": false, \"is_translation_enabled\": false, \"profile_background_color\": \"F5F8FA\", \"profile_background_image_url\": null, \"profile_background_image_url_https\": null, \"profile_background_tile\": false, \"profile_image_url\": \"http://abs.twimg.com/sticky/default_profile_images/default_profile_normal.png\", \"profile_image_url_https\": \"https://abs.twimg.com/sticky/default_profile_images/default_profile_normal.png\", \"profile_link_color\": \"1DA1F2\", \"profile_sidebar_border_color\": \"C0DEED\", \"profile_sidebar_fill_color\": \"DDEEF6\", \"profile_text_color\": \"333333\", \"profile_use_background_image\": true, \"has_extended_profile\": false, \"default_profile\": true, \"default_profile_image\": true, \"following\": false, \"follow_request_sent\": false, \"notifications\": false, \"translator_type\": \"none\"}'), ('_MediBloc', '935683612132773888', '{\"id\": 935683612132773888, \"id_str\": \"935683612132773888\", \"name\": \"\\\\u30b3\\\\u30a4\\\\u30f3\\\\u65e5\\\\u548c\\\\uff0d\\\\u30d3\\\\u30c3\\\\u30c8\\\\u30b3\\\\u30a4\\\\u30f3\", \"screen_name\": \"coinbiyori\", \"location\": \"Japan\", \"description\": \"\\\\u30d3\\\\u30c3\\\\u30c8\\\\u30b3\\\\u30a4\\\\u30f3\\\\ud83d\\\\udc30\\\\ud83d\\\\udc37\\\\ud83d\\\\udc31\\\\ud83d\\\\udc36\\\\ud83d\\\\udc2d\\\\ud83e\\\\udd81\\\\ud83d\\\\udc2fhttps://t.co/JWUsqdqgNF  \\\\ud83e\\\\udd8b\\\\ud83e\\\\udd82\\\\ud83d\\\\udc20\\\\ud83e\\\\udd85\\\\ud83c\\\\udf40\\\\ud83c\\\\udf38\\\\u26c5\\\\ufe0f\\\\u26a1\\\\ufe0f  \\\\u751f\\\\u304d\\\\u7269\\\\u306f\\\\u307f\\\\u3093\\\\u306a\\\\u4ef2\\\\u9593\\\\uff01\\\\ud83e\\\\udd23Peaceful World\\\\ud83d\\\\ude07\", \"url\": \"https://t.co/m6nwlXb2WJ\", \"entities\": {\"url\": {\"urls\": [{\"url\": \"https://t.co/m6nwlXb2WJ\", \"expanded_url\": \"http://coin.oldpandaspace.com/\", \"display_url\": \"coin.oldpandaspace.com\", \"indices\": [0, 23]}]}, \"description\": {\"urls\": [{\"url\": \"https://t.co/JWUsqdqgNF\", \"expanded_url\": \"http://coin.oldpandaspace.com/m6nwlXb2WJDPNYssKraG\", \"display_url\": \"coin.oldpandaspace.com/m6nwlXb2WJDPNY\\\\u2026\", \"indices\": [13, 36]}]}}, \"protected\": false, \"followers_count\": 924, \"friends_count\": 2928, \"listed_count\": 0, \"created_at\": \"Wed Nov 29 01:35:32 +0000 2017\", \"favourites_count\": 56, \"utc_offset\": null, \"time_zone\": null, \"geo_enabled\": false, \"verified\": false, \"statuses_count\": 284, \"lang\": \"ja\", \"status\": {\"created_at\": \"Sun Dec 24 23:45:58 +0000 2017\", \"id\": 945078124739403776, \"id_str\": \"945078124739403776\", \"text\": \"\\\\u300e\\\\u30c7\\\\u30fc\\\\u30bf\\\\u30de\\\\u30a4\\\\u30cb\\\\u30f3\\\\u30b0\\\\u5206\\\\u6790\\\\u300f\\\\u672c\\\\u65e5\\\\u306e\\\\u30d3\\\\u30c3\\\\u30c8\\\\u30b3\\\\u30a4\\\\u30f3\\\\u76f8\\\\u5834\\\\u4e88\\\\u60f3\\\\uff082017.12.25\\\\uff09 \\\\u30fc \\\\u30b3\\\\u30a4\\\\u30f3\\\\u65e5\\\\u548c \\\\n https://t.co/6zXARuyEEL\\\\n \\\\u30fc 2017/12/24 https://t.co/5bkU0q4rGK\", \"truncated\": false, \"entities\": {\"hashtags\": [], \"symbols\": [], \"user_mentions\": [], \"urls\": [{\"url\": \"https://t.co/6zXARuyEEL\", \"expanded_url\": \"http://coin.oldpandaspace.com/data20171225/\", \"display_url\": \"coin.oldpandaspace.com/data20171225/\", \"indices\": [48, 71]}], \"media\": [{\"id\": 945078122424057856, \"id_str\": \"945078122424057856\", \"indices\": [86, 109], \"media_url\": \"http://pbs.twimg.com/media/DR2Xi4wUQAAMwPq.jpg\", \"media_url_https\": \"https://pbs.twimg.com/media/DR2Xi4wUQAAMwPq.jpg\", \"url\": \"https://t.co/5bkU0q4rGK\", \"display_url\": \"pic.twitter.com/5bkU0q4rGK\", \"expanded_url\": \"https://twitter.com/coinbiyori/status/945078124739403776/photo/1\", \"type\": \"photo\", \"sizes\": {\"medium\": {\"w\": 1200, \"h\": 822, \"resize\": \"fit\"}, \"thumb\": {\"w\": 150, \"h\": 150, \"resize\": \"crop\"}, \"small\": {\"w\": 680, \"h\": 466, \"resize\": \"fit\"}, \"large\": {\"w\": 1280, \"h\": 877, \"resize\": \"fit\"}}}]}, \"extended_entities\": {\"media\": [{\"id\": 945078122424057856, \"id_str\": \"945078122424057856\", \"indices\": [86, 109], \"media_url\": \"http://pbs.twimg.com/media/DR2Xi4wUQAAMwPq.jpg\", \"media_url_https\": \"https://pbs.twimg.com/media/DR2Xi4wUQAAMwPq.jpg\", \"url\": \"https://t.co/5bkU0q4rGK\", \"display_url\": \"pic.twitter.com/5bkU0q4rGK\", \"expanded_url\": \"https://twitter.com/coinbiyori/status/945078124739403776/photo/1\", \"type\": \"photo\", \"sizes\": {\"medium\": {\"w\": 1200, \"h\": 822, \"resize\": \"fit\"}, \"thumb\": {\"w\": 150, \"h\": 150, \"resize\": \"crop\"}, \"small\": {\"w\": 680, \"h\": 466, \"resize\": \"fit\"}, \"large\": {\"w\": 1280, \"h\": 877, \"resize\": \"fit\"}}}]}, \"source\": \"<a href=\\\\\"http://coin.oldpandaspace.com/\\\\\" rel=\\\\\"nofollow\\\\\">Coinbiyori</a>\", \"in_reply_to_status_id\": null, \"in_reply_to_status_id_str\": null, \"in_reply_to_user_id\": null, \"in_reply_to_user_id_str\": null, \"in_reply_to_screen_name\": null, \"geo\": null, \"coordinates\": null, \"place\": null, \"contributors\": null, \"is_quote_status\": false, \"retweet_count\": 0, \"favorite_count\": 5, \"favorited\": false, \"retweeted\": false, \"possibly_sensitive\": false, \"lang\": \"ja\"}, \"contributors_enabled\": false, \"is_translator\": false, \"is_translation_enabled\": false, \"profile_background_color\": \"000000\", \"profile_background_image_url\": \"http://abs.twimg.com/images/themes/theme1/bg.png\", \"profile_background_image_url_https\": \"https://abs.twimg.com/images/themes/theme1/bg.png\", \"profile_background_tile\": false, \"profile_image_url\": \"http://pbs.twimg.com/profile_images/944896351858409473/n3E3LBoD_normal.jpg\", \"profile_image_url_https\": \"https://pbs.twimg.com/profile_images/944896351858409473/n3E3LBoD_normal.jpg\", \"profile_banner_url\": \"https://pbs.twimg.com/profile_banners/935683612132773888/1511919754\", \"profile_link_color\": \"F58EA8\", \"profile_sidebar_border_color\": \"000000\", \"profile_sidebar_fill_color\": \"000000\", \"profile_text_color\": \"000000\", \"profile_use_background_image\": false, \"has_extended_profile\": false, \"default_profile\": false, \"default_profile_image\": false, \"following\": false, \"follow_request_sent\": false, \"notifications\": false, \"translator_type\": \"none\"}'), ('_MediBloc', '394962803', '{\"id\": 394962803, \"id_str\": \"394962803\", \"name\": \"\\\\uc624\\\\uc601\\\\ud658\", \"screen_name\": \"oyh5203\", \"location\": \"\", \"description\": \"\", \"url\": null, \"entities\": {\"description\": {\"urls\": []}}, \"protected\": false, \"followers_count\": 1, \"friends_count\": 5, \"listed_count\": 0, \"created_at\": \"Thu Oct 20 22:19:02 +0000 2011\", \"favourites_count\": 0, \"utc_offset\": null, \"time_zone\": null, \"geo_enabled\": false, \"verified\": false, \"statuses_count\": 0, \"lang\": \"en\", \"contributors_enabled\": false, \"is_translator\": false, \"is_translation_enabled\": false, \"profile_background_color\": \"C0DEED\", \"profile_background_image_url\": \"http://abs.twimg.com/images/themes/theme1/bg.png\", \"profile_background_image_url_https\": \"https://abs.twimg.com/images/themes/theme1/bg.png\", \"profile_background_tile\": false, \"profile_image_url\": \"http://abs.twimg.com/sticky/default_profile_images/default_profile_normal.png\", \"profile_image_url_https\": \"https://abs.twimg.com/sticky/default_profile_images/default_profile_normal.png\", \"profile_link_color\": \"1DA1F2\", \"profile_sidebar_border_color\": \"C0DEED\", \"profile_sidebar_fill_color\": \"DDEEF6\", \"profile_text_color\": \"333333\", \"profile_use_background_image\": true, \"has_extended_profile\": false, \"default_profile\": true, \"default_profile_image\": true, \"following\": false, \"follow_request_sent\": false, \"notifications\": false, \"translator_type\": \"none\"}'), ('_MediBloc', '943492366119288832', '{\"id\": 943492366119288832, \"id_str\": \"943492366119288832\", \"name\": \"\\\\ube44\\\\ucf54\\\\uc6a9\", \"screen_name\": \"bitcoinyong\", \"location\": \"\", \"description\": \"\", \"url\": null, \"entities\": {\"description\": {\"urls\": []}}, \"protected\": false, \"followers_count\": 0, \"friends_count\": 30, \"listed_count\": 1, \"created_at\": \"Wed Dec 20 14:44:44 +0000 2017\", \"favourites_count\": 0, \"utc_offset\": null, \"time_zone\": null, \"geo_enabled\": false, \"verified\": false, \"statuses_count\": 0, \"lang\": \"ko\", \"contributors_enabled\": false, \"is_translator\": false, \"is_translation_enabled\": false, \"profile_background_color\": \"F5F8FA\", \"profile_background_image_url\": null, \"profile_background_image_url_https\": null, \"profile_background_tile\": false, \"profile_image_url\": \"http://abs.twimg.com/sticky/default_profile_images/default_profile_normal.png\", \"profile_image_url_https\": \"https://abs.twimg.com/sticky/default_profile_images/default_profile_normal.png\", \"profile_link_color\": \"1DA1F2\", \"profile_sidebar_border_color\": \"C0DEED\", \"profile_sidebar_fill_color\": \"DDEEF6\", \"profile_text_color\": \"333333\", \"profile_use_background_image\": true, \"has_extended_profile\": false, \"default_profile\": true, \"default_profile_image\": true, \"following\": false, \"follow_request_sent\": false, \"notifications\": false, \"translator_type\": \"none\"}'), ('_MediBloc', '943659202286727168', '{\"id\": 943659202286727168, \"id_str\": \"943659202286727168\", \"name\": \"\\\\ud669\\\\uc7ac\\\\uc6d0\", \"screen_name\": \"hjw9043\", \"location\": \"\", \"description\": \"\", \"url\": null, \"entities\": {\"description\": {\"urls\": []}}, \"protected\": false, \"followers_count\": 1, \"friends_count\": 143, \"listed_count\": 1, \"created_at\": \"Thu Dec 21 01:47:40 +0000 2017\", \"favourites_count\": 0, \"utc_offset\": null, \"time_zone\": null, \"geo_enabled\": false, \"verified\": false, \"statuses_count\": 0, \"lang\": \"ko\", \"contributors_enabled\": false, \"is_translator\": false, \"is_translation_enabled\": false, \"profile_background_color\": \"F5F8FA\", \"profile_background_image_url\": null, \"profile_background_image_url_https\": null, \"profile_background_tile\": false, \"profile_image_url\": \"http://abs.twimg.com/sticky/default_profile_images/default_profile_normal.png\", \"profile_image_url_https\": \"https://abs.twimg.com/sticky/default_profile_images/default_profile_normal.png\", \"profile_link_color\": \"1DA1F2\", \"profile_sidebar_border_color\": \"C0DEED\", \"profile_sidebar_fill_color\": \"DDEEF6\", \"profile_text_color\": \"333333\", \"profile_use_background_image\": true, \"has_extended_profile\": false, \"default_profile\": true, \"default_profile_image\": true, \"following\": false, \"follow_request_sent\": false, \"notifications\": false, \"translator_type\": \"none\"}'), ('_MediBloc', '2898745885', '{\"id\": 2898745885, \"id_str\": \"2898745885\", \"name\": \"taha khalid\", \"screen_name\": \"mohdtkhalid\", \"location\": \"\", \"description\": \"\", \"url\": null, \"entities\": {\"description\": {\"urls\": []}}, \"protected\": false, \"followers_count\": 28, \"friends_count\": 376, \"listed_count\": 1, \"created_at\": \"Thu Nov 13 19:25:47 +0000 2014\", \"favourites_count\": 4, \"utc_offset\": null, \"time_zone\": null, \"geo_enabled\": false, \"verified\": false, \"statuses_count\": 11, \"lang\": \"en-gb\", \"status\": {\"created_at\": \"Fri Dec 22 16:47:14 +0000 2017\", \"id\": 944247974024138752, \"id_str\": \"944247974024138752\", \"text\": \"RT @kucoincom: ReTweet To Vote Rules:\\\\n\\\\nStep 1: Follow @kucoincom on Twitter\\\\nStep 2: Retweet this post for #INS_Ecosystem to be listed next\\\\u2026\", \"truncated\": false, \"entities\": {\"hashtags\": [{\"text\": \"INS_Ecosystem\", \"indices\": [106, 120]}], \"symbols\": [], \"user_mentions\": [{\"screen_name\": \"kucoincom\", \"name\": \"KUCOIN\", \"id\": 910110294625492992, \"id_str\": \"910110294625492992\", \"indices\": [3, 13]}, {\"screen_name\": \"kucoincom\", \"name\": \"KUCOIN\", \"id\": 910110294625492992, \"id_str\": \"910110294625492992\", \"indices\": [54, 64]}], \"urls\": []}, \"source\": \"<a href=\\\\\"http://twitter.com/download/iphone\\\\\" rel=\\\\\"nofollow\\\\\">Twitter for iPhone</a>\", \"in_reply_to_status_id\": null, \"in_reply_to_status_id_str\": null, \"in_reply_to_user_id\": null, \"in_reply_to_user_id_str\": null, \"in_reply_to_screen_name\": null, \"geo\": null, \"coordinates\": null, \"place\": null, \"contributors\": null, \"retweeted_status\": {\"created_at\": \"Fri Dec 22 13:22:22 +0000 2017\", \"id\": 944196415093219334, \"id_str\": \"944196415093219334\", \"text\": \"ReTweet To Vote Rules:\\\\n\\\\nStep 1: Follow @kucoincom on Twitter\\\\nStep 2: Retweet this post for #INS_Ecosystem to be lis\\\\u2026 https://t.co/fyHSxJtUcG\", \"truncated\": true, \"entities\": {\"hashtags\": [{\"text\": \"INS_Ecosystem\", \"indices\": [91, 105]}], \"symbols\": [], \"user_mentions\": [{\"screen_name\": \"kucoincom\", \"name\": \"KUCOIN\", \"id\": 910110294625492992, \"id_str\": \"910110294625492992\", \"indices\": [39, 49]}], \"urls\": [{\"url\": \"https://t.co/fyHSxJtUcG\", \"expanded_url\": \"https://twitter.com/i/web/status/944196415093219334\", \"display_url\": \"twitter.com/i/web/status/9\\\\u2026\", \"indices\": [117, 140]}]}, \"source\": \"<a href=\\\\\"http://twitter.com\\\\\" rel=\\\\\"nofollow\\\\\">Twitter Web Client</a>\", \"in_reply_to_status_id\": null, \"in_reply_to_status_id_str\": null, \"in_reply_to_user_id\": null, \"in_reply_to_user_id_str\": null, \"in_reply_to_screen_name\": null, \"geo\": null, \"coordinates\": null, \"place\": null, \"contributors\": null, \"is_quote_status\": false, \"retweet_count\": 3686, \"favorite_count\": 1123, \"favorited\": false, \"retweeted\": false, \"possibly_sensitive\": false, \"lang\": \"en\"}, \"is_quote_status\": false, \"retweet_count\": 3686, \"favorite_count\": 0, \"favorited\": false, \"retweeted\": false, \"lang\": \"en\"}, \"contributors_enabled\": false, \"is_translator\": false, \"is_translation_enabled\": false, \"profile_background_color\": \"C0DEED\", \"profile_background_image_url\": \"http://abs.twimg.com/images/themes/theme1/bg.png\", \"profile_background_image_url_https\": \"https://abs.twimg.com/images/themes/theme1/bg.png\", \"profile_background_tile\": false, \"profile_image_url\": \"http://abs.twimg.com/sticky/default_profile_images/default_profile_normal.png\", \"profile_image_url_https\": \"https://abs.twimg.com/sticky/default_profile_images/default_profile_normal.png\", \"profile_link_color\": \"1DA1F2\", \"profile_sidebar_border_color\": \"C0DEED\", \"profile_sidebar_fill_color\": \"DDEEF6\", \"profile_text_color\": \"333333\", \"profile_use_background_image\": true, \"has_extended_profile\": false, \"default_profile\": true, \"default_profile_image\": true, \"following\": false, \"follow_request_sent\": false, \"notifications\": false, \"translator_type\": \"none\"}'), ('_MediBloc', '943647969877692416', '{\"id\": 943647969877692416, \"id_str\": \"943647969877692416\", \"name\": \"\\\\u738b\\\\u6167\\\\u7586\", \"screen_name\": \"DTW9ZhlPYlM9iRH\", \"location\": \"\", \"description\": \"\", \"url\": null, \"entities\": {\"description\": {\"urls\": []}}, \"protected\": false, \"followers_count\": 0, \"friends_count\": 1, \"listed_count\": 0, \"created_at\": \"Thu Dec 21 01:03:02 +0000 2017\", \"favourites_count\": 0, \"utc_offset\": null, \"time_zone\": null, \"geo_enabled\": false, \"verified\": false, \"statuses_count\": 17, \"lang\": \"zh-cn\", \"status\": {\"created_at\": \"Thu Dec 21 01:57:55 +0000 2017\", \"id\": 943661779376156672, \"id_str\": \"943661779376156672\", \"text\": \"\\\\u4f60\\\\u597d\\\\uff0cTwitter\\\\uff01#\\\\u6211\\\\u7684\\\\u7b2c\\\\u4e00\\\\u6761\\\\u63a8\\\\u6587\", \"truncated\": false, \"entities\": {\"hashtags\": [{\"text\": \"\\\\u6211\\\\u7684\\\\u7b2c\\\\u4e00\\\\u6761\\\\u63a8\\\\u6587\", \"indices\": [11, 19]}], \"symbols\": [], \"user_mentions\": [], \"urls\": []}, \"source\": \"<a href=\\\\\"http://twitter.com\\\\\" rel=\\\\\"nofollow\\\\\">Twitter Web Client</a>\", \"in_reply_to_status_id\": null, \"in_reply_to_status_id_str\": null, \"in_reply_to_user_id\": null, \"in_reply_to_user_id_str\": null, \"in_reply_to_screen_name\": null, \"geo\": null, \"coordinates\": null, \"place\": null, \"contributors\": null, \"is_quote_status\": false, \"retweet_count\": 0, \"favorite_count\": 0, \"favorited\": false, \"retweeted\": false, \"lang\": \"ja\"}, \"contributors_enabled\": false, \"is_translator\": false, \"is_translation_enabled\": false, \"profile_background_color\": \"F5F8FA\", \"profile_background_image_url\": null, \"profile_background_image_url_https\": null, \"profile_background_tile\": false, \"profile_image_url\": \"http://abs.twimg.com/sticky/default_profile_images/default_profile_normal.png\", \"profile_image_url_https\": \"https://abs.twimg.com/sticky/default_profile_images/default_profile_normal.png\", \"profile_link_color\": \"1DA1F2\", \"profile_sidebar_border_color\": \"C0DEED\", \"profile_sidebar_fill_color\": \"DDEEF6\", \"profile_text_color\": \"333333\", \"profile_use_background_image\": true, \"has_extended_profile\": false, \"default_profile\": true, \"default_profile_image\": true, \"following\": false, \"follow_request_sent\": false, \"notifications\": false, \"translator_type\": \"none\"}')]\n"
     ]
    }
   ],
   "source": [
    "c.execute('''SELECT temp_handles.Follower_Source, temp_handles.Follower_IDs, temp.User_Object\n",
    "                        FROM temp_handles\n",
    "                        LEFT JOIN temp ON temp_handles.ID = temp.ID''')\n",
    "viewData = c.fetchall()\n",
    "\n",
    "c.execute(\"INSERT INTO handles_join(Follower_Source, Follower_IDs, User_Object) VALUES(?,?,?)\", (row[0], row[1], row[2],))"
   ]
  },
  {
   "cell_type": "code",
   "execution_count": 31,
   "metadata": {},
   "outputs": [],
   "source": [
    "for data in viewData:\n",
    "    c.execute(\"INSERT INTO handles_join(Follower_Source, Follower_IDs, User_Object) VALUES(?,?,?)\", (data[0], data[1], data[2],))\n",
    "    "
   ]
  },
  {
   "cell_type": "code",
   "execution_count": 17,
   "metadata": {},
   "outputs": [
    {
     "name": "stdout",
     "output_type": "stream",
     "text": [
      "(1, '_MediBloc', '829892082588282880', None)\n",
      "(2, '_MediBloc', '943690737190703105', None)\n",
      "(3, '_MediBloc', '943686183745228801', None)\n",
      "(4, '_MediBloc', '942799098050068480', None)\n",
      "(5, '_MediBloc', '935683612132773888', None)\n",
      "(6, '_MediBloc', '394962803', None)\n",
      "(7, '_MediBloc', '943492366119288832', None)\n",
      "(8, '_MediBloc', '943659202286727168', None)\n",
      "(9, '_MediBloc', '2898745885', None)\n"
     ]
    }
   ],
   "source": [
    "for row in c.execute(\"SELECT * FROM temp_handles WHERE ID < 10\"):\n",
    "    print(row)"
   ]
  },
  {
   "cell_type": "code",
   "execution_count": 32,
   "metadata": {},
   "outputs": [
    {
     "name": "stdout",
     "output_type": "stream",
     "text": [
      "(1, '_MediBloc', '829892082588282880', '{\"id\": 829892082588282880, \"id_str\": \"829892082588282880\", \"name\": \"\\\\ucd5c\\\\uc6d0\\\\uc11d\", \"screen_name\": \"red8ull87\", \"location\": \"\", \"description\": \"\", \"url\": null, \"entities\": {\"description\": {\"urls\": []}}, \"protected\": false, \"followers_count\": 0, \"friends_count\": 29, \"listed_count\": 0, \"created_at\": \"Fri Feb 10 03:17:45 +0000 2017\", \"favourites_count\": 4, \"utc_offset\": null, \"time_zone\": null, \"geo_enabled\": false, \"verified\": false, \"statuses_count\": 1, \"lang\": \"ko\", \"contributors_enabled\": false, \"is_translator\": false, \"is_translation_enabled\": false, \"profile_background_color\": \"F5F8FA\", \"profile_background_image_url\": null, \"profile_background_image_url_https\": null, \"profile_background_tile\": false, \"profile_image_url\": \"http://abs.twimg.com/sticky/default_profile_images/default_profile_normal.png\", \"profile_image_url_https\": \"https://abs.twimg.com/sticky/default_profile_images/default_profile_normal.png\", \"profile_link_color\": \"1DA1F2\", \"profile_sidebar_border_color\": \"C0DEED\", \"profile_sidebar_fill_color\": \"DDEEF6\", \"profile_text_color\": \"333333\", \"profile_use_background_image\": true, \"has_extended_profile\": false, \"default_profile\": true, \"default_profile_image\": true, \"following\": false, \"follow_request_sent\": false, \"notifications\": false, \"translator_type\": \"none\"}')\n",
      "(2, '_MediBloc', '943690737190703105', '{\"id\": 943690737190703105, \"id_str\": \"943690737190703105\", \"name\": \"\\\\uc6b0\\\\uc131\\\\uad6c\", \"screen_name\": \"t0k9sZtpGnsmojz\", \"location\": \"\", \"description\": \"\", \"url\": null, \"entities\": {\"description\": {\"urls\": []}}, \"protected\": false, \"followers_count\": 0, \"friends_count\": 4, \"listed_count\": 0, \"created_at\": \"Thu Dec 21 03:52:59 +0000 2017\", \"favourites_count\": 0, \"utc_offset\": null, \"time_zone\": null, \"geo_enabled\": false, \"verified\": false, \"statuses_count\": 0, \"lang\": \"en\", \"contributors_enabled\": false, \"is_translator\": false, \"is_translation_enabled\": false, \"profile_background_color\": \"F5F8FA\", \"profile_background_image_url\": null, \"profile_background_image_url_https\": null, \"profile_background_tile\": false, \"profile_image_url\": \"http://abs.twimg.com/sticky/default_profile_images/default_profile_normal.png\", \"profile_image_url_https\": \"https://abs.twimg.com/sticky/default_profile_images/default_profile_normal.png\", \"profile_link_color\": \"1DA1F2\", \"profile_sidebar_border_color\": \"C0DEED\", \"profile_sidebar_fill_color\": \"DDEEF6\", \"profile_text_color\": \"333333\", \"profile_use_background_image\": true, \"has_extended_profile\": false, \"default_profile\": true, \"default_profile_image\": true, \"following\": false, \"follow_request_sent\": false, \"notifications\": false, \"translator_type\": \"none\"}')\n",
      "(3, '_MediBloc', '943686183745228801', '{\"id\": 943686183745228801, \"id_str\": \"943686183745228801\", \"name\": \"\\\\ubc15\\\\uc0c1\\\\uc900\", \"screen_name\": \"ti8ByYQ9e6iZePO\", \"location\": \"\", \"description\": \"\", \"url\": null, \"entities\": {\"description\": {\"urls\": []}}, \"protected\": false, \"followers_count\": 0, \"friends_count\": 15, \"listed_count\": 0, \"created_at\": \"Thu Dec 21 03:34:53 +0000 2017\", \"favourites_count\": 1, \"utc_offset\": null, \"time_zone\": null, \"geo_enabled\": false, \"verified\": false, \"statuses_count\": 1, \"lang\": \"ko\", \"status\": {\"created_at\": \"Thu Dec 21 14:35:44 +0000 2017\", \"id\": 943852491392794626, \"id_str\": \"943852491392794626\", \"text\": \"@justinsuntron Nice\", \"truncated\": false, \"entities\": {\"hashtags\": [], \"symbols\": [], \"user_mentions\": [{\"screen_name\": \"justinsuntron\", \"name\": \"Justin Sun\", \"id\": 902839045356744704, \"id_str\": \"902839045356744704\", \"indices\": [0, 14]}], \"urls\": []}, \"source\": \"<a href=\\\\\"http://twitter.com/download/android\\\\\" rel=\\\\\"nofollow\\\\\">Twitter for Android</a>\", \"in_reply_to_status_id\": 943851114432102400, \"in_reply_to_status_id_str\": \"943851114432102400\", \"in_reply_to_user_id\": 902839045356744704, \"in_reply_to_user_id_str\": \"902839045356744704\", \"in_reply_to_screen_name\": \"justinsuntron\", \"geo\": null, \"coordinates\": null, \"place\": null, \"contributors\": null, \"is_quote_status\": false, \"retweet_count\": 0, \"favorite_count\": 0, \"favorited\": false, \"retweeted\": false, \"lang\": \"en\"}, \"contributors_enabled\": false, \"is_translator\": false, \"is_translation_enabled\": false, \"profile_background_color\": \"F5F8FA\", \"profile_background_image_url\": null, \"profile_background_image_url_https\": null, \"profile_background_tile\": false, \"profile_image_url\": \"http://abs.twimg.com/sticky/default_profile_images/default_profile_normal.png\", \"profile_image_url_https\": \"https://abs.twimg.com/sticky/default_profile_images/default_profile_normal.png\", \"profile_link_color\": \"1DA1F2\", \"profile_sidebar_border_color\": \"C0DEED\", \"profile_sidebar_fill_color\": \"DDEEF6\", \"profile_text_color\": \"333333\", \"profile_use_background_image\": true, \"has_extended_profile\": false, \"default_profile\": true, \"default_profile_image\": true, \"following\": false, \"follow_request_sent\": false, \"notifications\": false, \"translator_type\": \"none\"}')\n",
      "(4, '_MediBloc', '942799098050068480', '{\"id\": 942799098050068480, \"id_str\": \"942799098050068480\", \"name\": \"\\\\uc870\\\\ubbfc\\\\ud638\", \"screen_name\": \"woVeU7uHTo5grn9\", \"location\": \"\", \"description\": \"\", \"url\": null, \"entities\": {\"description\": {\"urls\": []}}, \"protected\": false, \"followers_count\": 1, \"friends_count\": 21, \"listed_count\": 0, \"created_at\": \"Mon Dec 18 16:49:56 +0000 2017\", \"favourites_count\": 1, \"utc_offset\": null, \"time_zone\": null, \"geo_enabled\": false, \"verified\": false, \"statuses_count\": 0, \"lang\": \"ko\", \"contributors_enabled\": false, \"is_translator\": false, \"is_translation_enabled\": false, \"profile_background_color\": \"F5F8FA\", \"profile_background_image_url\": null, \"profile_background_image_url_https\": null, \"profile_background_tile\": false, \"profile_image_url\": \"http://abs.twimg.com/sticky/default_profile_images/default_profile_normal.png\", \"profile_image_url_https\": \"https://abs.twimg.com/sticky/default_profile_images/default_profile_normal.png\", \"profile_link_color\": \"1DA1F2\", \"profile_sidebar_border_color\": \"C0DEED\", \"profile_sidebar_fill_color\": \"DDEEF6\", \"profile_text_color\": \"333333\", \"profile_use_background_image\": true, \"has_extended_profile\": false, \"default_profile\": true, \"default_profile_image\": true, \"following\": false, \"follow_request_sent\": false, \"notifications\": false, \"translator_type\": \"none\"}')\n",
      "(5, '_MediBloc', '935683612132773888', '{\"id\": 935683612132773888, \"id_str\": \"935683612132773888\", \"name\": \"\\\\u30b3\\\\u30a4\\\\u30f3\\\\u65e5\\\\u548c\\\\uff0d\\\\u30d3\\\\u30c3\\\\u30c8\\\\u30b3\\\\u30a4\\\\u30f3\", \"screen_name\": \"coinbiyori\", \"location\": \"Japan\", \"description\": \"\\\\u30d3\\\\u30c3\\\\u30c8\\\\u30b3\\\\u30a4\\\\u30f3\\\\ud83d\\\\udc30\\\\ud83d\\\\udc37\\\\ud83d\\\\udc31\\\\ud83d\\\\udc36\\\\ud83d\\\\udc2d\\\\ud83e\\\\udd81\\\\ud83d\\\\udc2fhttps://t.co/JWUsqdqgNF  \\\\ud83e\\\\udd8b\\\\ud83e\\\\udd82\\\\ud83d\\\\udc20\\\\ud83e\\\\udd85\\\\ud83c\\\\udf40\\\\ud83c\\\\udf38\\\\u26c5\\\\ufe0f\\\\u26a1\\\\ufe0f  \\\\u751f\\\\u304d\\\\u7269\\\\u306f\\\\u307f\\\\u3093\\\\u306a\\\\u4ef2\\\\u9593\\\\uff01\\\\ud83e\\\\udd23Peaceful World\\\\ud83d\\\\ude07\", \"url\": \"https://t.co/m6nwlXb2WJ\", \"entities\": {\"url\": {\"urls\": [{\"url\": \"https://t.co/m6nwlXb2WJ\", \"expanded_url\": \"http://coin.oldpandaspace.com/\", \"display_url\": \"coin.oldpandaspace.com\", \"indices\": [0, 23]}]}, \"description\": {\"urls\": [{\"url\": \"https://t.co/JWUsqdqgNF\", \"expanded_url\": \"http://coin.oldpandaspace.com/m6nwlXb2WJDPNYssKraG\", \"display_url\": \"coin.oldpandaspace.com/m6nwlXb2WJDPNY\\\\u2026\", \"indices\": [13, 36]}]}}, \"protected\": false, \"followers_count\": 924, \"friends_count\": 2928, \"listed_count\": 0, \"created_at\": \"Wed Nov 29 01:35:32 +0000 2017\", \"favourites_count\": 56, \"utc_offset\": null, \"time_zone\": null, \"geo_enabled\": false, \"verified\": false, \"statuses_count\": 284, \"lang\": \"ja\", \"status\": {\"created_at\": \"Sun Dec 24 23:45:58 +0000 2017\", \"id\": 945078124739403776, \"id_str\": \"945078124739403776\", \"text\": \"\\\\u300e\\\\u30c7\\\\u30fc\\\\u30bf\\\\u30de\\\\u30a4\\\\u30cb\\\\u30f3\\\\u30b0\\\\u5206\\\\u6790\\\\u300f\\\\u672c\\\\u65e5\\\\u306e\\\\u30d3\\\\u30c3\\\\u30c8\\\\u30b3\\\\u30a4\\\\u30f3\\\\u76f8\\\\u5834\\\\u4e88\\\\u60f3\\\\uff082017.12.25\\\\uff09 \\\\u30fc \\\\u30b3\\\\u30a4\\\\u30f3\\\\u65e5\\\\u548c \\\\n https://t.co/6zXARuyEEL\\\\n \\\\u30fc 2017/12/24 https://t.co/5bkU0q4rGK\", \"truncated\": false, \"entities\": {\"hashtags\": [], \"symbols\": [], \"user_mentions\": [], \"urls\": [{\"url\": \"https://t.co/6zXARuyEEL\", \"expanded_url\": \"http://coin.oldpandaspace.com/data20171225/\", \"display_url\": \"coin.oldpandaspace.com/data20171225/\", \"indices\": [48, 71]}], \"media\": [{\"id\": 945078122424057856, \"id_str\": \"945078122424057856\", \"indices\": [86, 109], \"media_url\": \"http://pbs.twimg.com/media/DR2Xi4wUQAAMwPq.jpg\", \"media_url_https\": \"https://pbs.twimg.com/media/DR2Xi4wUQAAMwPq.jpg\", \"url\": \"https://t.co/5bkU0q4rGK\", \"display_url\": \"pic.twitter.com/5bkU0q4rGK\", \"expanded_url\": \"https://twitter.com/coinbiyori/status/945078124739403776/photo/1\", \"type\": \"photo\", \"sizes\": {\"medium\": {\"w\": 1200, \"h\": 822, \"resize\": \"fit\"}, \"thumb\": {\"w\": 150, \"h\": 150, \"resize\": \"crop\"}, \"small\": {\"w\": 680, \"h\": 466, \"resize\": \"fit\"}, \"large\": {\"w\": 1280, \"h\": 877, \"resize\": \"fit\"}}}]}, \"extended_entities\": {\"media\": [{\"id\": 945078122424057856, \"id_str\": \"945078122424057856\", \"indices\": [86, 109], \"media_url\": \"http://pbs.twimg.com/media/DR2Xi4wUQAAMwPq.jpg\", \"media_url_https\": \"https://pbs.twimg.com/media/DR2Xi4wUQAAMwPq.jpg\", \"url\": \"https://t.co/5bkU0q4rGK\", \"display_url\": \"pic.twitter.com/5bkU0q4rGK\", \"expanded_url\": \"https://twitter.com/coinbiyori/status/945078124739403776/photo/1\", \"type\": \"photo\", \"sizes\": {\"medium\": {\"w\": 1200, \"h\": 822, \"resize\": \"fit\"}, \"thumb\": {\"w\": 150, \"h\": 150, \"resize\": \"crop\"}, \"small\": {\"w\": 680, \"h\": 466, \"resize\": \"fit\"}, \"large\": {\"w\": 1280, \"h\": 877, \"resize\": \"fit\"}}}]}, \"source\": \"<a href=\\\\\"http://coin.oldpandaspace.com/\\\\\" rel=\\\\\"nofollow\\\\\">Coinbiyori</a>\", \"in_reply_to_status_id\": null, \"in_reply_to_status_id_str\": null, \"in_reply_to_user_id\": null, \"in_reply_to_user_id_str\": null, \"in_reply_to_screen_name\": null, \"geo\": null, \"coordinates\": null, \"place\": null, \"contributors\": null, \"is_quote_status\": false, \"retweet_count\": 0, \"favorite_count\": 5, \"favorited\": false, \"retweeted\": false, \"possibly_sensitive\": false, \"lang\": \"ja\"}, \"contributors_enabled\": false, \"is_translator\": false, \"is_translation_enabled\": false, \"profile_background_color\": \"000000\", \"profile_background_image_url\": \"http://abs.twimg.com/images/themes/theme1/bg.png\", \"profile_background_image_url_https\": \"https://abs.twimg.com/images/themes/theme1/bg.png\", \"profile_background_tile\": false, \"profile_image_url\": \"http://pbs.twimg.com/profile_images/944896351858409473/n3E3LBoD_normal.jpg\", \"profile_image_url_https\": \"https://pbs.twimg.com/profile_images/944896351858409473/n3E3LBoD_normal.jpg\", \"profile_banner_url\": \"https://pbs.twimg.com/profile_banners/935683612132773888/1511919754\", \"profile_link_color\": \"F58EA8\", \"profile_sidebar_border_color\": \"000000\", \"profile_sidebar_fill_color\": \"000000\", \"profile_text_color\": \"000000\", \"profile_use_background_image\": false, \"has_extended_profile\": false, \"default_profile\": false, \"default_profile_image\": false, \"following\": false, \"follow_request_sent\": false, \"notifications\": false, \"translator_type\": \"none\"}')\n",
      "(6, '_MediBloc', '394962803', '{\"id\": 394962803, \"id_str\": \"394962803\", \"name\": \"\\\\uc624\\\\uc601\\\\ud658\", \"screen_name\": \"oyh5203\", \"location\": \"\", \"description\": \"\", \"url\": null, \"entities\": {\"description\": {\"urls\": []}}, \"protected\": false, \"followers_count\": 1, \"friends_count\": 5, \"listed_count\": 0, \"created_at\": \"Thu Oct 20 22:19:02 +0000 2011\", \"favourites_count\": 0, \"utc_offset\": null, \"time_zone\": null, \"geo_enabled\": false, \"verified\": false, \"statuses_count\": 0, \"lang\": \"en\", \"contributors_enabled\": false, \"is_translator\": false, \"is_translation_enabled\": false, \"profile_background_color\": \"C0DEED\", \"profile_background_image_url\": \"http://abs.twimg.com/images/themes/theme1/bg.png\", \"profile_background_image_url_https\": \"https://abs.twimg.com/images/themes/theme1/bg.png\", \"profile_background_tile\": false, \"profile_image_url\": \"http://abs.twimg.com/sticky/default_profile_images/default_profile_normal.png\", \"profile_image_url_https\": \"https://abs.twimg.com/sticky/default_profile_images/default_profile_normal.png\", \"profile_link_color\": \"1DA1F2\", \"profile_sidebar_border_color\": \"C0DEED\", \"profile_sidebar_fill_color\": \"DDEEF6\", \"profile_text_color\": \"333333\", \"profile_use_background_image\": true, \"has_extended_profile\": false, \"default_profile\": true, \"default_profile_image\": true, \"following\": false, \"follow_request_sent\": false, \"notifications\": false, \"translator_type\": \"none\"}')\n",
      "(7, '_MediBloc', '943492366119288832', '{\"id\": 943492366119288832, \"id_str\": \"943492366119288832\", \"name\": \"\\\\ube44\\\\ucf54\\\\uc6a9\", \"screen_name\": \"bitcoinyong\", \"location\": \"\", \"description\": \"\", \"url\": null, \"entities\": {\"description\": {\"urls\": []}}, \"protected\": false, \"followers_count\": 0, \"friends_count\": 30, \"listed_count\": 1, \"created_at\": \"Wed Dec 20 14:44:44 +0000 2017\", \"favourites_count\": 0, \"utc_offset\": null, \"time_zone\": null, \"geo_enabled\": false, \"verified\": false, \"statuses_count\": 0, \"lang\": \"ko\", \"contributors_enabled\": false, \"is_translator\": false, \"is_translation_enabled\": false, \"profile_background_color\": \"F5F8FA\", \"profile_background_image_url\": null, \"profile_background_image_url_https\": null, \"profile_background_tile\": false, \"profile_image_url\": \"http://abs.twimg.com/sticky/default_profile_images/default_profile_normal.png\", \"profile_image_url_https\": \"https://abs.twimg.com/sticky/default_profile_images/default_profile_normal.png\", \"profile_link_color\": \"1DA1F2\", \"profile_sidebar_border_color\": \"C0DEED\", \"profile_sidebar_fill_color\": \"DDEEF6\", \"profile_text_color\": \"333333\", \"profile_use_background_image\": true, \"has_extended_profile\": false, \"default_profile\": true, \"default_profile_image\": true, \"following\": false, \"follow_request_sent\": false, \"notifications\": false, \"translator_type\": \"none\"}')\n",
      "(8, '_MediBloc', '943659202286727168', '{\"id\": 943659202286727168, \"id_str\": \"943659202286727168\", \"name\": \"\\\\ud669\\\\uc7ac\\\\uc6d0\", \"screen_name\": \"hjw9043\", \"location\": \"\", \"description\": \"\", \"url\": null, \"entities\": {\"description\": {\"urls\": []}}, \"protected\": false, \"followers_count\": 1, \"friends_count\": 143, \"listed_count\": 1, \"created_at\": \"Thu Dec 21 01:47:40 +0000 2017\", \"favourites_count\": 0, \"utc_offset\": null, \"time_zone\": null, \"geo_enabled\": false, \"verified\": false, \"statuses_count\": 0, \"lang\": \"ko\", \"contributors_enabled\": false, \"is_translator\": false, \"is_translation_enabled\": false, \"profile_background_color\": \"F5F8FA\", \"profile_background_image_url\": null, \"profile_background_image_url_https\": null, \"profile_background_tile\": false, \"profile_image_url\": \"http://abs.twimg.com/sticky/default_profile_images/default_profile_normal.png\", \"profile_image_url_https\": \"https://abs.twimg.com/sticky/default_profile_images/default_profile_normal.png\", \"profile_link_color\": \"1DA1F2\", \"profile_sidebar_border_color\": \"C0DEED\", \"profile_sidebar_fill_color\": \"DDEEF6\", \"profile_text_color\": \"333333\", \"profile_use_background_image\": true, \"has_extended_profile\": false, \"default_profile\": true, \"default_profile_image\": true, \"following\": false, \"follow_request_sent\": false, \"notifications\": false, \"translator_type\": \"none\"}')\n",
      "(9, '_MediBloc', '2898745885', '{\"id\": 2898745885, \"id_str\": \"2898745885\", \"name\": \"taha khalid\", \"screen_name\": \"mohdtkhalid\", \"location\": \"\", \"description\": \"\", \"url\": null, \"entities\": {\"description\": {\"urls\": []}}, \"protected\": false, \"followers_count\": 28, \"friends_count\": 376, \"listed_count\": 1, \"created_at\": \"Thu Nov 13 19:25:47 +0000 2014\", \"favourites_count\": 4, \"utc_offset\": null, \"time_zone\": null, \"geo_enabled\": false, \"verified\": false, \"statuses_count\": 11, \"lang\": \"en-gb\", \"status\": {\"created_at\": \"Fri Dec 22 16:47:14 +0000 2017\", \"id\": 944247974024138752, \"id_str\": \"944247974024138752\", \"text\": \"RT @kucoincom: ReTweet To Vote Rules:\\\\n\\\\nStep 1: Follow @kucoincom on Twitter\\\\nStep 2: Retweet this post for #INS_Ecosystem to be listed next\\\\u2026\", \"truncated\": false, \"entities\": {\"hashtags\": [{\"text\": \"INS_Ecosystem\", \"indices\": [106, 120]}], \"symbols\": [], \"user_mentions\": [{\"screen_name\": \"kucoincom\", \"name\": \"KUCOIN\", \"id\": 910110294625492992, \"id_str\": \"910110294625492992\", \"indices\": [3, 13]}, {\"screen_name\": \"kucoincom\", \"name\": \"KUCOIN\", \"id\": 910110294625492992, \"id_str\": \"910110294625492992\", \"indices\": [54, 64]}], \"urls\": []}, \"source\": \"<a href=\\\\\"http://twitter.com/download/iphone\\\\\" rel=\\\\\"nofollow\\\\\">Twitter for iPhone</a>\", \"in_reply_to_status_id\": null, \"in_reply_to_status_id_str\": null, \"in_reply_to_user_id\": null, \"in_reply_to_user_id_str\": null, \"in_reply_to_screen_name\": null, \"geo\": null, \"coordinates\": null, \"place\": null, \"contributors\": null, \"retweeted_status\": {\"created_at\": \"Fri Dec 22 13:22:22 +0000 2017\", \"id\": 944196415093219334, \"id_str\": \"944196415093219334\", \"text\": \"ReTweet To Vote Rules:\\\\n\\\\nStep 1: Follow @kucoincom on Twitter\\\\nStep 2: Retweet this post for #INS_Ecosystem to be lis\\\\u2026 https://t.co/fyHSxJtUcG\", \"truncated\": true, \"entities\": {\"hashtags\": [{\"text\": \"INS_Ecosystem\", \"indices\": [91, 105]}], \"symbols\": [], \"user_mentions\": [{\"screen_name\": \"kucoincom\", \"name\": \"KUCOIN\", \"id\": 910110294625492992, \"id_str\": \"910110294625492992\", \"indices\": [39, 49]}], \"urls\": [{\"url\": \"https://t.co/fyHSxJtUcG\", \"expanded_url\": \"https://twitter.com/i/web/status/944196415093219334\", \"display_url\": \"twitter.com/i/web/status/9\\\\u2026\", \"indices\": [117, 140]}]}, \"source\": \"<a href=\\\\\"http://twitter.com\\\\\" rel=\\\\\"nofollow\\\\\">Twitter Web Client</a>\", \"in_reply_to_status_id\": null, \"in_reply_to_status_id_str\": null, \"in_reply_to_user_id\": null, \"in_reply_to_user_id_str\": null, \"in_reply_to_screen_name\": null, \"geo\": null, \"coordinates\": null, \"place\": null, \"contributors\": null, \"is_quote_status\": false, \"retweet_count\": 3686, \"favorite_count\": 1123, \"favorited\": false, \"retweeted\": false, \"possibly_sensitive\": false, \"lang\": \"en\"}, \"is_quote_status\": false, \"retweet_count\": 3686, \"favorite_count\": 0, \"favorited\": false, \"retweeted\": false, \"lang\": \"en\"}, \"contributors_enabled\": false, \"is_translator\": false, \"is_translation_enabled\": false, \"profile_background_color\": \"C0DEED\", \"profile_background_image_url\": \"http://abs.twimg.com/images/themes/theme1/bg.png\", \"profile_background_image_url_https\": \"https://abs.twimg.com/images/themes/theme1/bg.png\", \"profile_background_tile\": false, \"profile_image_url\": \"http://abs.twimg.com/sticky/default_profile_images/default_profile_normal.png\", \"profile_image_url_https\": \"https://abs.twimg.com/sticky/default_profile_images/default_profile_normal.png\", \"profile_link_color\": \"1DA1F2\", \"profile_sidebar_border_color\": \"C0DEED\", \"profile_sidebar_fill_color\": \"DDEEF6\", \"profile_text_color\": \"333333\", \"profile_use_background_image\": true, \"has_extended_profile\": false, \"default_profile\": true, \"default_profile_image\": true, \"following\": false, \"follow_request_sent\": false, \"notifications\": false, \"translator_type\": \"none\"}')\n"
     ]
    }
   ],
   "source": [
    "for row in c.execute(\"SELECT * FROM handles_join WHERE ID < 10\"):\n",
    "    print(row)"
   ]
  },
  {
   "cell_type": "code",
   "execution_count": 6,
   "metadata": {
    "scrolled": true
   },
   "outputs": [
    {
     "ename": "IntegrityError",
     "evalue": "NOT NULL constraint failed: handles.Follower_Source",
     "output_type": "error",
     "traceback": [
      "\u001b[0;31m---------------------------------------------------------------------------\u001b[0m",
      "\u001b[0;31mIntegrityError\u001b[0m                            Traceback (most recent call last)",
      "\u001b[0;32m<ipython-input-6-657beb7bd0c4>\u001b[0m in \u001b[0;36m<module>\u001b[0;34m()\u001b[0m\n\u001b[1;32m     11\u001b[0m         \u001b[0muser\u001b[0m \u001b[0;34m=\u001b[0m \u001b[0muser\u001b[0m\u001b[0;34m.\u001b[0m\u001b[0m_json\u001b[0m\u001b[0;34m\u001b[0m\u001b[0m\n\u001b[1;32m     12\u001b[0m         \u001b[0mencode_user\u001b[0m \u001b[0;34m=\u001b[0m \u001b[0mjson\u001b[0m\u001b[0;34m.\u001b[0m\u001b[0mJSONEncoder\u001b[0m\u001b[0;34m(\u001b[0m\u001b[0;34m)\u001b[0m\u001b[0;34m.\u001b[0m\u001b[0mencode\u001b[0m\u001b[0;34m(\u001b[0m\u001b[0muser\u001b[0m\u001b[0;34m)\u001b[0m\u001b[0;34m\u001b[0m\u001b[0m\n\u001b[0;32m---> 13\u001b[0;31m         \u001b[0mc\u001b[0m\u001b[0;34m.\u001b[0m\u001b[0mexecute\u001b[0m\u001b[0;34m(\u001b[0m\u001b[0;34m\"INSERT INTO handles(User_Object) VALUES (?)\"\u001b[0m\u001b[0;34m,\u001b[0m \u001b[0;34m(\u001b[0m\u001b[0mencode_user\u001b[0m\u001b[0;34m,\u001b[0m\u001b[0;34m)\u001b[0m\u001b[0;34m)\u001b[0m\u001b[0;34m\u001b[0m\u001b[0m\n\u001b[0m\u001b[1;32m     14\u001b[0m \u001b[0;34m\u001b[0m\u001b[0m\n\u001b[1;32m     15\u001b[0m     \u001b[0ma\u001b[0m \u001b[0;34m+=\u001b[0m \u001b[0;36m100\u001b[0m\u001b[0;34m\u001b[0m\u001b[0m\n",
      "\u001b[0;31mIntegrityError\u001b[0m: NOT NULL constraint failed: handles.Follower_Source"
     ]
    }
   ],
   "source": [
    "import json\n",
    "a = 0\n",
    "while True:\n",
    "    row_list = []\n",
    "    for row in c.execute(\"SELECT * FROM handles LIMIT \" + str(a) + \", 100\"):\n",
    "        row_list.append(row[2])\n",
    "    \n",
    "    user_100 = api.UsersLookup(row_list)\n",
    "    for user in user_100:\n",
    "        \n",
    "        user = user._json\n",
    "        encode_user = json.JSONEncoder().encode(user)\n",
    "        c.execute(\"INSERT INTO handles(User_Object) VALUES (?)\", (encode_user,))\n",
    "\n",
    "    a += 100\n",
    "    conn.commit()\n",
    "    print(str(a) + \"\\t\")\n",
    "        "
   ]
  },
  {
   "cell_type": "code",
   "execution_count": 23,
   "metadata": {},
   "outputs": [],
   "source": [
    "conn.commit()"
   ]
  },
  {
   "cell_type": "code",
   "execution_count": 13,
   "metadata": {},
   "outputs": [],
   "source": [
    "import csv\n",
    "with open(\"user_9.csv\", mode='w', newline='') as csvfile:\n",
    "    write = csv.writer(csvfile)\n",
    "    for row in c.execute(\"SELECT * FROM handles_join WHERE ID >= 800000\"):\n",
    "        write.writerow(row)"
   ]
  },
  {
   "cell_type": "code",
   "execution_count": null,
   "metadata": {},
   "outputs": [],
   "source": []
  },
  {
   "cell_type": "code",
   "execution_count": null,
   "metadata": {},
   "outputs": [],
   "source": []
  }
 ],
 "metadata": {
  "kernelspec": {
   "display_name": "Python 3",
   "language": "python",
   "name": "python3"
  },
  "language_info": {
   "codemirror_mode": {
    "name": "ipython",
    "version": 3
   },
   "file_extension": ".py",
   "mimetype": "text/x-python",
   "name": "python",
   "nbconvert_exporter": "python",
   "pygments_lexer": "ipython3",
   "version": "3.6.3"
  }
 },
 "nbformat": 4,
 "nbformat_minor": 2
}
